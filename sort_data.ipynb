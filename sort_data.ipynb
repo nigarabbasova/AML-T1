{
 "cells": [
  {
   "cell_type": "code",
   "execution_count": 1,
   "metadata": {},
   "outputs": [],
   "source": [
    "from phasefield_scripts.load_files import *\n",
    "from phasefield_scripts.procedures import *\n",
    "from scipy.ndimage import gaussian_filter\n",
    "import matplotlib.pyplot as plt\n",
    "import ipywidgets as widget\n",
    "from ipywidgets import fixed\n",
    "import os\n",
    "import pickle\n",
    "import multiprocessing as mp\n",
    "from tqdm import tqdm\n",
    "from multiprocessing import Pool\n",
    "%matplotlib widget\n",
    "import pandas as pd"
   ]
  },
  {
   "attachments": {},
   "cell_type": "markdown",
   "metadata": {},
   "source": [
    "Create a folder inside \"images\" directory which we will use to store our data which will be sorted into classes.\n"
   ]
  },
  {
   "cell_type": "code",
   "execution_count": 26,
   "metadata": {},
   "outputs": [],
   "source": [
    "expname = 'i3c3a1d0v5a0_set18b'\n",
    "input_dir = 'data\\\\' + expname + '\\images'\n",
    "result_dir = input_dir + '/sorted_data'\n",
    "if not os.path.exists(result_dir):\n",
    "    os.makedirs(result_dir)\n"
   ]
  },
  {
   "attachments": {},
   "cell_type": "markdown",
   "metadata": {},
   "source": [
    "Now, load images into a list so that we can sort it using the T1 array. "
   ]
  },
  {
   "cell_type": "code",
   "execution_count": null,
   "metadata": {},
   "outputs": [],
   "source": [
    "T1_array = np.load(input_dir + '/T1_status.npy')\n",
    "\n",
    "def image_loader(data_dir):\n",
    "    images = []\n",
    "    image_files = [image_file for image_file in os.listdir(data_dir) if image_file.startswith('img')]\n",
    "    for image_name in image_files:\n",
    "        images.append(image_files)\n",
    "    data = np.array(image_files)\n",
    "    return data\n",
    "\n",
    "images = image_loader(input_dir)\n",
    "\n",
    "\n",
    "print(images)\n",
    "\n",
    "\n",
    "print(T1_array)\n",
    "\n"
   ]
  },
  {
   "cell_type": "code",
   "execution_count": null,
   "metadata": {},
   "outputs": [],
   "source": [
    "# if index of T1_array is 1, make a folder in result_dir and move the image to that folder\n",
    "\n",
    "for i in range(len(T1_array)):\n",
    "    if T1_array[i] == 1:\n",
    "        if not os.path.exists(result_dir + '/T1'):\n",
    "            os.makedirs(result_dir + '/T1')\n",
    "        os.rename(input_dir + '/' + images[i], result_dir + '/T1/' + images[i])\n",
    "    else:\n",
    "        if not os.path.exists(result_dir + '/T0'):\n",
    "            os.makedirs(result_dir + '/T0')\n",
    "        os.rename(input_dir + '/' + images[i], result_dir + '/T0/' + images[i])"
   ]
  },
  {
   "attachments": {},
   "cell_type": "markdown",
   "metadata": {},
   "source": [
    "Turn everything into a big function and get it done in one go: "
   ]
  },
  {
   "cell_type": "code",
   "execution_count": 36,
   "metadata": {},
   "outputs": [],
   "source": [
    "#turn all of the code above into a function with experiment name as argument \n",
    "\n",
    "def sort_data(expname):\n",
    "    input_dir = 'data\\\\' + expname + '\\images'\n",
    "    result_dir = input_dir + '/sorted_data'\n",
    "    if not os.path.exists(result_dir):\n",
    "        os.makedirs(result_dir)\\\n",
    "    \n",
    "    T1_array = np.load(input_dir + '/T1_status.npy')\n",
    "\n",
    "    def image_loader(data_dir):\n",
    "        images = []\n",
    "        image_files = [image_file for image_file in os.listdir(data_dir) if image_file.startswith('img')]\n",
    "        for image_name in image_files:\n",
    "            images.append(image_files)\n",
    "        data = np.array(image_files)\n",
    "        return data\n",
    "\n",
    "    images = image_loader(input_dir)\n",
    "    \n",
    "    for i in range(len(T1_array)):\n",
    "        if T1_array[i] == 1:\n",
    "            if not os.path.exists(result_dir + '/T1'):\n",
    "                os.makedirs(result_dir + '/T1')\n",
    "            os.rename(input_dir + '/' + images[i], result_dir + '/T1/' + images[i])\n",
    "        else:\n",
    "            if not os.path.exists(result_dir + '/T0'):\n",
    "                os.makedirs(result_dir + '/T0')\n",
    "            os.rename(input_dir + '/' + images[i], result_dir + '/T0/' + images[i])\n",
    "    \n",
    "            \n",
    "            \n",
    "# test = sort_data('i3c3a1d0v5a0_set18b')\n",
    "        \n",
    "        \n",
    "        \n",
    "#make a list with experiments that you want this to be done for, and run the function for each experiment: \n",
    "\n",
    "experiments = [\n",
    "    # 'i3c3a1d0v5a0_set18a',\n",
    "    # 'i3c3a1d0v5a0_set18b',\n",
    "    # 'i3c3a1d0v5a0_set18d',\n",
    "    # 'i3c3a1d0v5a2_set21',\n",
    "    'i3c3a1d0v5a7_set21',\n",
    "    'i3c3a1d0v5a14_set21',\n",
    "    'i3c3a1d0v5a15_set21',\n",
    "    'i3c3a1d1v5a0_set22',\n",
    "    'i3c3a1d1v5a7_set22',\n",
    "    'i3c4a1d0v5a0_set20',\n",
    "    'i3c4a1d0v5a0_set23',\n",
    "    'i3c5a1d0v5a0_set20',\n",
    "    'i3c5a1d0v5a0_set23',\n",
    "               ]\n",
    "\n",
    "test_experiments = [\n",
    "            'i3c3a1d0v5a0_set18d',\n",
    "            'i3c3a1d0v5a2_set21'\n",
    "               ]\n",
    "\n",
    "\n",
    "# print(test_experiments[0])\n",
    "for i in range(len(experiments)):\n",
    "    sort_data(experiments[i])\n"
   ]
  },
  {
   "attachments": {},
   "cell_type": "markdown",
   "metadata": {},
   "source": [
    "Success! It all seems to work :) The experiments that are commented out are the ones I used for testing the script. "
   ]
  }
 ],
 "metadata": {
  "kernelspec": {
   "display_name": "Python 3",
   "language": "python",
   "name": "python3"
  },
  "language_info": {
   "codemirror_mode": {
    "name": "ipython",
    "version": 3
   },
   "file_extension": ".py",
   "mimetype": "text/x-python",
   "name": "python",
   "nbconvert_exporter": "python",
   "pygments_lexer": "ipython3",
   "version": "3.10.2"
  },
  "orig_nbformat": 4
 },
 "nbformat": 4,
 "nbformat_minor": 2
}
