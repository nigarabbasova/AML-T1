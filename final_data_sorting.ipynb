{
 "cells": [
  {
   "cell_type": "code",
   "execution_count": 2,
   "metadata": {},
   "outputs": [],
   "source": [
    "# from phasefield_scripts.load_files import *\n",
    "# from phasefield_scripts.procedures import *\n",
    "from scipy.ndimage import gaussian_filter\n",
    "import matplotlib.pyplot as plt\n",
    "import ipywidgets as widget\n",
    "from ipywidgets import fixed\n",
    "import os\n",
    "import pickle\n",
    "import multiprocessing as mp\n",
    "from tqdm import tqdm\n",
    "from multiprocessing import Pool\n",
    "%matplotlib widget\n",
    "import pandas as pd\n",
    "import numpy as np "
   ]
  },
  {
   "cell_type": "code",
   "execution_count": 30,
   "metadata": {},
   "outputs": [
    {
     "name": "stdout",
     "output_type": "stream",
     "text": [
      "data_sorted_mixed\\T0/T0_all\n"
     ]
    }
   ],
   "source": [
    "# expname = 'i3c5a1d0v5a0_set20'\n",
    "# input_dir = 'data\\\\' + expname + '\\images'\n",
    "# result_dir = input_dir + '/sorted_data'\n",
    "# if not os.path.exists(result_dir):\n",
    "#     os.makedirs(result_dir)\n",
    "    \n",
    "input_T0_dir = 'data_sorted_mixed\\\\' + 'T0' \n",
    "\n",
    "folder1 = input_T0_dir + '\\T0_18a'\n",
    "folder2 = input_T0_dir + '\\T0_18b'\n",
    "folder3 = input_T0_dir + '\\T0_18d'\n",
    "folder4 = input_T0_dir + '\\T0_20c4'\n",
    "folder5 = input_T0_dir + '\\T0_20c5'\n",
    "folder6 = input_T0_dir + '\\T0_21a2'\n",
    "folder7 = input_T0_dir + '\\T0_21a7'\n",
    "folder8 = input_T0_dir + '\\T0_21a14'\n",
    "folder9 = input_T0_dir + '\\T0_21a15'\n",
    "folder10 = input_T0_dir + '\\T0_22a0'\n",
    "folder11 = input_T0_dir + '\\T0_22a7'\n",
    "folder12 = input_T0_dir + '\\T0_23c4'\n",
    "folder13 = input_T0_dir + '\\T0_23c5'\n",
    "\n",
    "import os\n",
    "import shutil\n",
    "\n",
    "source_folders = [folder1,  folder2, folder3, folder4, folder5, folder6, folder7, folder8, folder9, folder10, folder11, folder12, folder13]\n",
    "destination_folder = 'data_sorted_mixed\\\\' + 'T0' + '/T0_all'\n",
    "\n",
    "print(destination_folder)\n",
    "\n",
    "if not os.path.exists(destination_folder):\n",
    "    os.makedirs(destination_folder)\n",
    "    \n",
    "existing_files = set(os.listdir(destination_folder))\n",
    "\n",
    "for folder in source_folders:\n",
    "    for filename in os.listdir(folder):\n",
    "        source_file = os.path.join(folder, filename)\n",
    "        destination_file = os.path.join(destination_folder, filename)\n",
    "        if filename in existing_files:\n",
    "            # check if the file already exists and has the same size\n",
    "            if os.path.getsize(source_file) == os.path.getsize(destination_file):\n",
    "                print(f\"Skipping {filename} as it already exists in the destination folder with the same size.\")\n",
    "                continue\n",
    "        # rename file if it already exists\n",
    "        if os.path.exists(destination_file):\n",
    "            i = 1\n",
    "            while os.path.exists(os.path.join(destination_folder, f\"{os.path.splitext(filename)[0]}_{i}{os.path.splitext(filename)[1]}\")):\n",
    "                i += 1\n",
    "            destination_file = os.path.join(destination_folder, f\"{os.path.splitext(filename)[0]}_{i}{os.path.splitext(filename)[1]}\")\n",
    "        shutil.copy(source_file, destination_file)"
   ]
  },
  {
   "cell_type": "code",
   "execution_count": 21,
   "metadata": {},
   "outputs": [
    {
     "name": "stdout",
     "output_type": "stream",
     "text": [
      "577\n"
     ]
    }
   ],
   "source": [
    "print(len(os.listdir(destination_folder)))"
   ]
  },
  {
   "attachments": {},
   "cell_type": "markdown",
   "metadata": {},
   "source": [
    "This code above is a bit too hacky for my liking, needs to be fixed... Running it twice makes the code append the files all over again, which is redundant!! Need a more robust way of sorting my data...."
   ]
  },
  {
   "attachments": {},
   "cell_type": "markdown",
   "metadata": {},
   "source": [
    "Anyway, now do the same thing for T1 folder! :) "
   ]
  },
  {
   "cell_type": "code",
   "execution_count": null,
   "metadata": {},
   "outputs": [],
   "source": [
    "input_T0_dir = 'data_sorted_mixed\\\\' + 'T0' \n",
    "\n",
    "folder1 = input_T0_dir + '\\T0_18a'\n",
    "folder2 = input_T0_dir + '\\T0_18b'\n",
    "folder3 = input_T0_dir + '\\T0_18d'\n",
    "folder4 = input_T0_dir + '\\T0_20c4'\n",
    "folder5 = input_T0_dir + '\\T0_20c5'\n",
    "folder6 = input_T0_dir + '\\T0_21a2'\n",
    "folder7 = input_T0_dir + '\\T0_21a7'\n",
    "folder8 = input_T0_dir + '\\T0_21a14'\n",
    "folder9 = input_T0_dir + '\\T0_21a15'\n",
    "folder10 = input_T0_dir + '\\T0_22a0'\n",
    "folder11 = input_T0_dir + '\\T0_22a7'\n",
    "folder12 = input_T0_dir + '\\T0_23c4'\n",
    "folder13 = input_T0_dir + '\\T0_23c5'\n"
   ]
  }
 ],
 "metadata": {
  "kernelspec": {
   "display_name": "Python 3",
   "language": "python",
   "name": "python3"
  },
  "language_info": {
   "codemirror_mode": {
    "name": "ipython",
    "version": 3
   },
   "file_extension": ".py",
   "mimetype": "text/x-python",
   "name": "python",
   "nbconvert_exporter": "python",
   "pygments_lexer": "ipython3",
   "version": "3.10.2"
  },
  "orig_nbformat": 4
 },
 "nbformat": 4,
 "nbformat_minor": 2
}
